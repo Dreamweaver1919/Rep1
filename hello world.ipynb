{
 "cells": [
  {
   "cell_type": "code",
   "execution_count": null,
   "id": "113274c5",
   "metadata": {},
   "outputs": [],
   "source": [
    "print(\"hello world!\\n\")"
   ]
  }
 ],
 "metadata": {
  "language_info": {
   "name": "python"
  }
 },
 "nbformat": 4,
 "nbformat_minor": 5
}
